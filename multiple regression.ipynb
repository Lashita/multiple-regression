{
 "cells": [
  {
   "cell_type": "code",
   "execution_count": 5,
   "metadata": {
    "collapsed": true
   },
   "outputs": [],
   "source": [
    "import numpy as np\n",
    "import statsmodels.api as sm\n",
    "\n",
    "def reg_m(y, x):\n",
    "    ones = np.ones(len(x[0]))\n",
    "    X = sm.add_constant(np.column_stack((x[0], ones)))\n",
    "    for ele in x[1:]:\n",
    "        X = sm.add_constant(np.column_stack((ele, X)))\n",
    "    results = sm.OLS(y, X).fit()\n",
    "    return results"
   ]
  },
  {
   "cell_type": "code",
   "execution_count": 22,
   "metadata": {
    "collapsed": true
   },
   "outputs": [],
   "source": [
    "\n",
    "y = [1,2,3,4,3,4,5,4,5,5,4,5,4,5,4,5,6,5,4,5,4,3,4]\n",
    "\n",
    "x = [\n",
    "     [4,2,3,4,5,4,5,6,7,4,8,9,8,8,6,6,5,5,5,5,5,5,5],\n",
    "     [4,1,2,3,4,5,6,7,5,8,7,8,7,8,7,8,7,7,7,7,7,6,5],\n",
    "     [4,1,2,5,6,7,8,9,7,8,7,8,7,7,7,7,7,7,6,6,4,4,4]\n",
    "     ]"
   ]
  },
  {
   "cell_type": "code",
   "execution_count": 23,
   "metadata": {},
   "outputs": [
    {
     "data": {
      "text/plain": [
       "<statsmodels.regression.linear_model.RegressionResultsWrapper at 0x167dd60e978>"
      ]
     },
     "execution_count": 23,
     "metadata": {},
     "output_type": "execute_result"
    }
   ],
   "source": [
    "reg_m(y,x)"
   ]
  },
  {
   "cell_type": "code",
   "execution_count": 24,
   "metadata": {},
   "outputs": [
    {
     "name": "stdout",
     "output_type": "stream",
     "text": [
      "                            OLS Regression Results                            \n",
      "==============================================================================\n",
      "Dep. Variable:                      y   R-squared:                       0.535\n",
      "Model:                            OLS   Adj. R-squared:                  0.461\n",
      "Method:                 Least Squares   F-statistic:                     7.281\n",
      "Date:                Fri, 06 Oct 2017   Prob (F-statistic):            0.00191\n",
      "Time:                        01:11:59   Log-Likelihood:                -26.025\n",
      "No. Observations:                  23   AIC:                             60.05\n",
      "Df Residuals:                      19   BIC:                             64.59\n",
      "Df Model:                           3                                         \n",
      "Covariance Type:            nonrobust                                         \n",
      "==============================================================================\n",
      "                 coef    std err          t      P>|t|      [0.025      0.975]\n",
      "------------------------------------------------------------------------------\n",
      "x1             0.2424      0.139      1.739      0.098      -0.049       0.534\n",
      "x2             0.2360      0.149      1.587      0.129      -0.075       0.547\n",
      "x3            -0.0618      0.145     -0.427      0.674      -0.365       0.241\n",
      "const          1.5704      0.633      2.481      0.023       0.245       2.895\n",
      "==============================================================================\n",
      "Omnibus:                        6.904   Durbin-Watson:                   1.905\n",
      "Prob(Omnibus):                  0.032   Jarque-Bera (JB):                4.708\n",
      "Skew:                          -0.849   Prob(JB):                       0.0950\n",
      "Kurtosis:                       4.426   Cond. No.                         38.6\n",
      "==============================================================================\n",
      "\n",
      "Warnings:\n",
      "[1] Standard Errors assume that the covariance matrix of the errors is correctly specified.\n"
     ]
    }
   ],
   "source": [
    "print(reg_m(y, x).summary())"
   ]
  },
  {
   "cell_type": "code",
   "execution_count": 10,
   "metadata": {},
   "outputs": [
    {
     "name": "stdout",
     "output_type": "stream",
     "text": [
      "[ -0.49104607   0.83271938   0.0860167    0.1326091    6.85681762\n",
      "  22.98163883 -41.08437805 -19.08085066]\n"
     ]
    }
   ],
   "source": [
    "import numpy as np\n",
    "y = [-6,-5,-10,-5,-8,-3,-6,-8,-8]\n",
    "x = [[-4.95,-4.55,-10.96,-1.08,-6.52,-0.81,-7.01,-4.46,-11.54],[-5.87,-4.52,-11.64,-3.36,-7.45,-2.36,-7.33,-7.65,-10.03],[-0.76,-0.71,-0.98,0.75,-0.86,-0.50,-0.33,-0.94,-1.03],[14.73,13.74,15.49,24.72,16.59,22.44,13.93,11.40,18.18],[4.02,4.47,4.18,4.96,4.29,4.81,4.32,4.43,4.28],[0.20,0.16,0.19,0.16,0.10,0.15,0.21,0.16,0.21],[0.45,0.50,0.53,0.60,0.48,0.53,0.50,0.49,0.55]]\n",
    "X = np.column_stack(x+[[1]*len(x[0])])\n",
    "beta_hat = np.linalg.lstsq(X,y)[0]\n",
    "print(beta_hat)"
   ]
  },
  {
   "cell_type": "code",
   "execution_count": 14,
   "metadata": {},
   "outputs": [
    {
     "name": "stdout",
     "output_type": "stream",
     "text": [
      "[  4.75628852e-24   1.00000000e+00   1.00000000e+00]\n"
     ]
    }
   ],
   "source": [
    "#Curve Fitting\n",
    "from scipy.optimize import curve_fit\n",
    "import scipy\n",
    "\n",
    "def fn(x, a, b, c):\n",
    "    return a + b*x[0] + c*x[1]\n",
    "\n",
    "# y(x0,x1) data:\n",
    "#    x0=0 1 2\n",
    "# ___________\n",
    "# x1=0 |0 1 2\n",
    "# x1=1 |1 2 3\n",
    "# x1=2 |2 3 4\n",
    "\n",
    "x = scipy.array([[0,1,2,0,1,2,0,1,2,],[0,0,0,1,1,1,2,2,2]])\n",
    "y = scipy.array([0,1,2,1,2,3,2,3,4])\n",
    "popt, pcov = curve_fit(fn, x, y)\n",
    "print(popt)\n",
    "\n"
   ]
  },
  {
   "cell_type": "code",
   "execution_count": 16,
   "metadata": {},
   "outputs": [
    {
     "name": "stdout",
     "output_type": "stream",
     "text": [
      "         x1        x2        x3  b\n",
      "0  0.958394  0.000748  0.760410  1\n",
      "1  0.995817  0.709246  0.797817  1\n",
      "2  0.719553  0.788307  0.198322  1\n",
      "3  0.004683  0.815235  0.525328  1\n",
      "4  0.139352  0.506195  0.314760  1\n",
      "0    7.241120\n",
      "1    8.807760\n",
      "2    6.891135\n",
      "3    7.211137\n",
      "4    6.096023\n",
      "dtype: float64\n",
      "                            OLS Regression Results                            \n",
      "==============================================================================\n",
      "Dep. Variable:                      y   R-squared:                       1.000\n",
      "Model:                            OLS   Adj. R-squared:                  1.000\n",
      "Method:                 Least Squares   F-statistic:                 1.144e+31\n",
      "Date:                Fri, 06 Oct 2017   Prob (F-statistic):               0.00\n",
      "Time:                        01:04:34   Log-Likelihood:                 3254.0\n",
      "No. Observations:                 100   AIC:                            -6500.\n",
      "Df Residuals:                      96   BIC:                            -6490.\n",
      "Df Model:                           3                                         \n",
      "Covariance Type:            nonrobust                                         \n",
      "==============================================================================\n",
      "                 coef    std err          t      P>|t|      [0.025      0.975]\n",
      "------------------------------------------------------------------------------\n",
      "x1             1.0000   6.44e-16   1.55e+15      0.000       1.000       1.000\n",
      "x2             2.0000   6.32e-16   3.16e+15      0.000       2.000       2.000\n",
      "x3             3.0000   5.97e-16   5.02e+15      0.000       3.000       3.000\n",
      "b              4.0000   6.13e-16   6.52e+15      0.000       4.000       4.000\n",
      "==============================================================================\n",
      "Omnibus:                        2.062   Durbin-Watson:                   0.968\n",
      "Prob(Omnibus):                  0.357   Jarque-Bera (JB):                1.542\n",
      "Skew:                           0.140   Prob(JB):                        0.462\n",
      "Kurtosis:                       3.540   Cond. No.                         6.62\n",
      "==============================================================================\n",
      "\n",
      "Warnings:\n",
      "[1] Standard Errors assume that the covariance matrix of the errors is correctly specified.\n"
     ]
    }
   ],
   "source": [
    "from random import random\n",
    "from pandas import DataFrame\n",
    "from statsmodels.api import OLS\n",
    "lr = lambda : [random() for i in range(100)]\n",
    "x = DataFrame({'x1': lr(), 'x2':lr(), 'x3':lr()})\n",
    "x['b'] = 1\n",
    "y = x.x1 + x.x2 * 2 + x.x3 * 3 + 4\n",
    "\n",
    "print(x.head())\n",
    "\n",
    "#        x1        x2        x3  b\n",
    "#0  0.433681  0.946723  0.103422  1\n",
    "#1  0.400423  0.527179  0.131674  1\n",
    "#2  0.992441  0.900678  0.360140  1\n",
    "#3  0.413757  0.099319  0.825181  1\n",
    "#4  0.796491  0.862593  0.193554  1\n",
    "\n",
    "print(y.head())\n",
    "\n",
    "#0    6.637392\n",
    "#1    5.849802\n",
    "#2    7.874218\n",
    "#3    7.087938\n",
    "#4    7.102337\n",
    "#dtype: float64\n",
    "\n",
    "model = OLS(y, x)\n",
    "result = model.fit()\n",
    "print(result.summary())"
   ]
  },
  {
   "cell_type": "code",
   "execution_count": null,
   "metadata": {
    "collapsed": true
   },
   "outputs": [],
   "source": []
  }
 ],
 "metadata": {
  "kernelspec": {
   "display_name": "Python 3",
   "language": "python",
   "name": "python3"
  },
  "language_info": {
   "codemirror_mode": {
    "name": "ipython",
    "version": 3
   },
   "file_extension": ".py",
   "mimetype": "text/x-python",
   "name": "python",
   "nbconvert_exporter": "python",
   "pygments_lexer": "ipython3",
   "version": "3.6.1"
  }
 },
 "nbformat": 4,
 "nbformat_minor": 2
}
